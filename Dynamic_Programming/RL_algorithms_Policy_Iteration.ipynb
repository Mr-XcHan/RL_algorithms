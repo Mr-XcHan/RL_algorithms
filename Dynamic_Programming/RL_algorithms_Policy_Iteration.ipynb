{
 "cells": [
  {
   "cell_type": "code",
   "execution_count": null,
   "metadata": {},
   "outputs": [],
   "source": [
    "\"\"\"\n",
    "    Policy_Iteration learning algorithm.  \n",
    "    More details you can learn from the blog:\n",
    "        https://blog.csdn.net/njshaka/article/details/892379\n",
    "    \n",
    "    author: Xinchen Han\n",
    "    data: 2020/7/25\n",
    "\"\"\""
   ]
  },
  {
   "cell_type": "code",
   "execution_count": null,
   "metadata": {},
   "outputs": [],
   "source": [
    "import gym\n",
    "import numpy as np\n",
    "\n",
    "env = gym.make('FrozenLake-v0')\n",
    "\n",
    "eon = env.observation_space.n\n",
    "\n",
    "ean = env.action_space.n\n",
    "\n",
    "\n",
    "\n",
    "def compute_value_function(policy, gamma=1.0):\n",
    "    value_table = np.zeros(eon)\n",
    "    threshold = 1e-10\n",
    "    while True:\n",
    "        updated_value_table = np.copy(value_table)\n",
    "        for state in range(eon):\n",
    "            action = policy[state]\n",
    "            value_table[state] = sum([trans_prob*(reward+gamma*updated_value_table[next_state])\n",
    "                                      for trans_prob, next_state, reward, done in env.P[state][action]])\n",
    "        if (np.sum((np.fabs(updated_value_table-value_table))) <= threshold):\n",
    "            break\n",
    "    return value_table\n",
    "\n",
    "\n",
    "\n",
    "def extract_policy(value_table, gamma=1.0):\n",
    "    policy = np.zeros(eon)\n",
    "    for state in range(eon):\n",
    "        Q_table = np.zeros(ean)\n",
    "        for action in range(ean):\n",
    "            for next_sr in env.P[state][action]:\n",
    "                trans_prob, next_state, reward, done = next_sr\n",
    "                Q_table[action] += (trans_prob *\n",
    "                                    (reward+gamma*value_table[next_state]))\n",
    "        policy[state] = np.argmax(Q_table)\n",
    "    return policy\n",
    "\n",
    "\n",
    "\n",
    "def policy_iteration(env, gamma=1.0):\n",
    "    random_policy = np.zeros(eon)\n",
    "    no_of_iterations = 200000\n",
    "    for i in range(no_of_iterations):\n",
    "        new_value_function = compute_value_function(random_policy, gamma)\n",
    "        new_policy = extract_policy(new_value_function, gamma)\n",
    "        if (np.all(random_policy == new_policy)):\n",
    "            print('Policy-Iteration converged as step %d.' % (i+1))\n",
    "            break\n",
    "        random_policy = new_policy\n",
    "    return new_policy\n",
    "\n",
    "\n",
    "print(policy_iteration(env))\n"
   ]
  },
  {
   "cell_type": "code",
   "execution_count": null,
   "metadata": {},
   "outputs": [],
   "source": []
  }
 ],
 "metadata": {
  "kernelspec": {
   "display_name": "Python 3",
   "language": "python",
   "name": "python3"
  },
  "language_info": {
   "codemirror_mode": {
    "name": "ipython",
    "version": 3
   },
   "file_extension": ".py",
   "mimetype": "text/x-python",
   "name": "python",
   "nbconvert_exporter": "python",
   "pygments_lexer": "ipython3",
   "version": "3.6.8"
  }
 },
 "nbformat": 4,
 "nbformat_minor": 4
}
