{
 "cells": [
  {
   "cell_type": "code",
   "execution_count": null,
   "metadata": {},
   "outputs": [],
   "source": [
    "\"\"\"\n",
    "    Value_Iteration learning algorithm.\n",
    "       \n",
    "    For each state s, for each action a, calculate the expected value of the next state s_.To see which action can reach \n",
    "the state with the largest expected value function, take this largest expected value function as the value function V(s)\n",
    "and this step in a loop until the value function converges.\n",
    "    \n",
    "    Author：Xinchen Han\n",
    "    date: 2020/7/24\n",
    "\"\"\"\n",
    "\"\"\"\n",
    "    Description of the problem--Frozen Lake\n",
    "\n",
    "        SFFF\n",
    "        FHFH\n",
    "        FFFH\n",
    "        HFFG\n",
    "\n",
    "    S : starting point, safe\n",
    "    F : frozen surface, safe\n",
    "    H : hole, fall to your doom\n",
    "    G : goal, where the frisbee is located\n",
    "\n",
    "    The episode ends when you reach the goal or fall in a hole.\n",
    "    You receive a reward of 1 if you reach the goal, and zero otherwise.\n",
    "    https://reinforcement-learning4.fun/2019/06/16/gym-tutorial-frozen-lake/\n",
    "\"\"\""
   ]
  },
  {
   "cell_type": "code",
   "execution_count": null,
   "metadata": {},
   "outputs": [],
   "source": [
    "import argparse\n",
    "import os\n",
    "import time\n",
    "\n",
    "import gym\n",
    "import matplotlib.pyplot as plt\n",
    "import numpy as np\n",
    "\n"
   ]
  },
  {
   "cell_type": "code",
   "execution_count": null,
   "metadata": {},
   "outputs": [],
   "source": [
    "# Load the environment\n",
    "alg_name = 'Value_Iteration'\n",
    "env_id = 'FrozenLake-v0'\n",
    "env = gym.make(env_id)\n",
    "render = True  # display the game environment\n",
    "\n",
    "# Initialize the V_table\n",
    "V_table = np.zeros(env.observation_space.n)\n",
    "\n",
    "# Set learning parameters\n",
    "Max_Episodes = 1000\n",
    "delta = 1e-20\n",
    "t0 = time.time()\n"
   ]
  },
  {
   "cell_type": "code",
   "execution_count": null,
   "metadata": {},
   "outputs": [],
   "source": [
    "# Value_Iteration\n",
    "def value_iteration(env, gamma = 1.0):\n",
    "    for i in range(Max_Episodes):\n",
    "        New_V_table = np.copy(V_table)\n",
    "        for state in range(env.observation_space.n):\n",
    "            Q_value = []\n",
    "            for action in range(env.action_space.n):\n",
    "                next_states_rewards = []\n",
    "                for next_info in env.P[state][action]:\n",
    "                    trans_prob, next_state, reward, done = next_info\n",
    "                    next_states_rewards.append(\n",
    "                        (trans_prob * (reward + gamma * New_V_table[next_state])))\n",
    "                    Q_value.append(np.sum(next_states_rewards))\n",
    "                    V_table[state] = max(Q_value)\n",
    "        \n",
    "        print(\"Value_table:\", V_table)\n",
    "\n",
    "        if(np.sum(np.fabs(New_V_table-V_table)) <= delta):\n",
    "            print(\"Value-itration converged at itration # %d\" % (i+1))\n",
    "            break\n",
    "    return V_table"
   ]
  },
  {
   "cell_type": "code",
   "execution_count": null,
   "metadata": {},
   "outputs": [],
   "source": [
    "def extract_policy(value_table, gamma=1.0):\n",
    "    policy = np.zeros(env.observation_space.n)\n",
    "    for state in range(env.observation_space.n):\n",
    "        Q_table = np.zeros(env.action_space.n)\n",
    "        for action in range(env.action_space.n):\n",
    "            for next_sr in env.P[state][action]:\n",
    "                trans_prob, next_state, reward, done = next_sr\n",
    "                Q_table[action] = (trans_prob * (reward + gamma * value_table[next_state]))\n",
    "        policy[state] = np.argmax(Q_table)\n",
    "    return policy\n",
    "\n",
    "\n",
    "\n",
    "optimal_value_function = value_iteration(env=env, gamma=0.95)\n",
    "\n",
    "optimal_policy = extract_policy(optimal_value_function, gamma=0.95)\n",
    "\n",
    "print(optimal_policy)\n"
   ]
  },
  {
   "cell_type": "code",
   "execution_count": null,
   "metadata": {},
   "outputs": [],
   "source": []
  }
 ],
 "metadata": {
  "kernelspec": {
   "display_name": "Python 3",
   "language": "python",
   "name": "python3"
  },
  "language_info": {
   "codemirror_mode": {
    "name": "ipython",
    "version": 3
   },
   "file_extension": ".py",
   "mimetype": "text/x-python",
   "name": "python",
   "nbconvert_exporter": "python",
   "pygments_lexer": "ipython3",
   "version": "3.6.8"
  }
 },
 "nbformat": 4,
 "nbformat_minor": 4
}
